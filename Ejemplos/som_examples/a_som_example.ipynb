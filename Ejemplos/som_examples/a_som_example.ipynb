{
 "cells": [
  {
   "cell_type": "markdown",
   "metadata": {},
   "source": [
    "# Primer intento de SOM"
   ]
  },
  {
   "cell_type": "markdown",
   "metadata": {},
   "source": [
    "## Primero revisaremos si funciona para detectar clusters"
   ]
  },
  {
   "cell_type": "code",
   "execution_count": 26,
   "metadata": {},
   "outputs": [],
   "source": [
    "from IPython.display import Image, display\n",
    "\n",
    "from minisom import MiniSom\n",
    "from sklearn.datasets import load_breast_cancer\n",
    "from hyperopt import fmin, tpe, hp, Trials, STATUS_OK\n",
    "\n",
    "\n",
    "import time\n",
    "import numpy as np\n",
    "import pandas as pd\n",
    "\n",
    "import matplotlib.pyplot as plt\n",
    "import seaborn as sns\n",
    "from pylab import plot,axis,show,pcolor,colorbar,bone\n"
   ]
  },
  {
   "cell_type": "code",
   "execution_count": 2,
   "metadata": {},
   "outputs": [],
   "source": [
    "som_grid_rows = 6\n",
    "som_grid_columns = 6\n",
    "iterations = 500\n",
    "sigma = 2\n",
    "learning_rate = .1"
   ]
  },
  {
   "cell_type": "code",
   "execution_count": 3,
   "metadata": {},
   "outputs": [
    {
     "name": "stderr",
     "output_type": "stream",
     "text": [
      "/home/sergio/miniconda3/envs/py3.6/lib/python3.6/site-packages/sklearn/utils/validation.py:71: FutureWarning: Pass return_X_y=True as keyword args. From version 0.25 passing these as positional arguments will result in an error\n",
      "  FutureWarning)\n"
     ]
    }
   ],
   "source": [
    "data, target = load_breast_cancer(True)"
   ]
  },
  {
   "cell_type": "code",
   "execution_count": 4,
   "metadata": {},
   "outputs": [
    {
     "data": {
      "text/plain": [
       "((569, 30), (569,))"
      ]
     },
     "execution_count": 4,
     "metadata": {},
     "output_type": "execute_result"
    }
   ],
   "source": [
    "data.shape, target.shape"
   ]
  },
  {
   "cell_type": "code",
   "execution_count": 58,
   "metadata": {},
   "outputs": [
    {
     "ename": "AttributeError",
     "evalue": "'numpy.ndarray' object has no attribute 'value_counts'",
     "output_type": "error",
     "traceback": [
      "\u001b[0;31m---------------------------------------------------------------------------\u001b[0m",
      "\u001b[0;31mAttributeError\u001b[0m                            Traceback (most recent call last)",
      "\u001b[0;32m<ipython-input-58-0ba54b11d49a>\u001b[0m in \u001b[0;36m<module>\u001b[0;34m\u001b[0m\n\u001b[0;32m----> 1\u001b[0;31m \u001b[0mtarget\u001b[0m\u001b[0;34m.\u001b[0m\u001b[0mvalue_counts\u001b[0m\u001b[0;34m(\u001b[0m\u001b[0;34m)\u001b[0m\u001b[0;34m\u001b[0m\u001b[0;34m\u001b[0m\u001b[0m\n\u001b[0m",
      "\u001b[0;31mAttributeError\u001b[0m: 'numpy.ndarray' object has no attribute 'value_counts'"
     ]
    }
   ],
   "source": [
    "target.value_counts()"
   ]
  },
  {
   "cell_type": "code",
   "execution_count": 5,
   "metadata": {},
   "outputs": [
    {
     "data": {
      "text/plain": [
       "MinMaxScaler()"
      ]
     },
     "execution_count": 5,
     "metadata": {},
     "output_type": "execute_result"
    }
   ],
   "source": [
    "from sklearn.preprocessing import MinMaxScaler\n",
    "sc = MinMaxScaler()\n",
    "sc"
   ]
  },
  {
   "cell_type": "code",
   "execution_count": 6,
   "metadata": {},
   "outputs": [
    {
     "data": {
      "text/plain": [
       "(569, 30)"
      ]
     },
     "execution_count": 6,
     "metadata": {},
     "output_type": "execute_result"
    }
   ],
   "source": [
    "data_sc = sc.fit_transform(data)\n",
    "data_sc.shape"
   ]
  },
  {
   "cell_type": "code",
   "execution_count": 7,
   "metadata": {},
   "outputs": [
    {
     "data": {
      "text/plain": [
       "\u001b[0;31mInit signature:\u001b[0m\n",
       "\u001b[0mMiniSom\u001b[0m\u001b[0;34m(\u001b[0m\u001b[0;34m\u001b[0m\n",
       "\u001b[0;34m\u001b[0m    \u001b[0mx\u001b[0m\u001b[0;34m,\u001b[0m\u001b[0;34m\u001b[0m\n",
       "\u001b[0;34m\u001b[0m    \u001b[0my\u001b[0m\u001b[0;34m,\u001b[0m\u001b[0;34m\u001b[0m\n",
       "\u001b[0;34m\u001b[0m    \u001b[0minput_len\u001b[0m\u001b[0;34m,\u001b[0m\u001b[0;34m\u001b[0m\n",
       "\u001b[0;34m\u001b[0m    \u001b[0msigma\u001b[0m\u001b[0;34m=\u001b[0m\u001b[0;36m1.0\u001b[0m\u001b[0;34m,\u001b[0m\u001b[0;34m\u001b[0m\n",
       "\u001b[0;34m\u001b[0m    \u001b[0mlearning_rate\u001b[0m\u001b[0;34m=\u001b[0m\u001b[0;36m0.5\u001b[0m\u001b[0;34m,\u001b[0m\u001b[0;34m\u001b[0m\n",
       "\u001b[0;34m\u001b[0m    \u001b[0mdecay_function\u001b[0m\u001b[0;34m=\u001b[0m\u001b[0;34m<\u001b[0m\u001b[0mfunction\u001b[0m \u001b[0masymptotic_decay\u001b[0m \u001b[0mat\u001b[0m \u001b[0;36m0x7f4938141d08\u001b[0m\u001b[0;34m>\u001b[0m\u001b[0;34m,\u001b[0m\u001b[0;34m\u001b[0m\n",
       "\u001b[0;34m\u001b[0m    \u001b[0mneighborhood_function\u001b[0m\u001b[0;34m=\u001b[0m\u001b[0;34m'gaussian'\u001b[0m\u001b[0;34m,\u001b[0m\u001b[0;34m\u001b[0m\n",
       "\u001b[0;34m\u001b[0m    \u001b[0mtopology\u001b[0m\u001b[0;34m=\u001b[0m\u001b[0;34m'rectangular'\u001b[0m\u001b[0;34m,\u001b[0m\u001b[0;34m\u001b[0m\n",
       "\u001b[0;34m\u001b[0m    \u001b[0mactivation_distance\u001b[0m\u001b[0;34m=\u001b[0m\u001b[0;34m'euclidean'\u001b[0m\u001b[0;34m,\u001b[0m\u001b[0;34m\u001b[0m\n",
       "\u001b[0;34m\u001b[0m    \u001b[0mrandom_seed\u001b[0m\u001b[0;34m=\u001b[0m\u001b[0;32mNone\u001b[0m\u001b[0;34m,\u001b[0m\u001b[0;34m\u001b[0m\n",
       "\u001b[0;34m\u001b[0m\u001b[0;34m)\u001b[0m\u001b[0;34m\u001b[0m\u001b[0;34m\u001b[0m\u001b[0m\n",
       "\u001b[0;31mDocstring:\u001b[0m      <no docstring>\n",
       "\u001b[0;31mInit docstring:\u001b[0m\n",
       "Initializes a Self Organizing Maps.\n",
       "\n",
       "A rule of thumb to set the size of the grid for a dimensionality\n",
       "reduction task is that it should contain 5*sqrt(N) neurons\n",
       "where N is the number of samples in the dataset to analyze.\n",
       "\n",
       "E.g. if your dataset has 150 samples, 5*sqrt(150) = 61.23\n",
       "hence a map 8-by-8 should perform well.\n",
       "\n",
       "Parameters\n",
       "----------\n",
       "x : int\n",
       "    x dimension of the SOM.\n",
       "\n",
       "y : int\n",
       "    y dimension of the SOM.\n",
       "\n",
       "input_len : int\n",
       "    Number of the elements of the vectors in input.\n",
       "\n",
       "sigma : float, optional (default=1.0)\n",
       "    Spread of the neighborhood function, needs to be adequate\n",
       "    to the dimensions of the map.\n",
       "    (at the iteration t we have sigma(t) = sigma / (1 + t/T)\n",
       "    where T is #num_iteration/2)\n",
       "learning_rate : initial learning rate\n",
       "    (at the iteration t we have\n",
       "    learning_rate(t) = learning_rate / (1 + t/T)\n",
       "    where T is #num_iteration/2)\n",
       "\n",
       "decay_function : function (default=None)\n",
       "    Function that reduces learning_rate and sigma at each iteration\n",
       "    the default function is:\n",
       "                learning_rate / (1+t/(max_iterarations/2))\n",
       "\n",
       "    A custom decay function will need to to take in input\n",
       "    three parameters in the following order:\n",
       "\n",
       "    1. learning rate\n",
       "    2. current iteration\n",
       "    3. maximum number of iterations allowed\n",
       "\n",
       "\n",
       "    Note that if a lambda function is used to define the decay\n",
       "    MiniSom will not be pickable anymore.\n",
       "\n",
       "neighborhood_function : string, optional (default='gaussian')\n",
       "    Function that weights the neighborhood of a position in the map.\n",
       "    Possible values: 'gaussian', 'mexican_hat', 'bubble', 'triangle'\n",
       "\n",
       "topology : string, optional (default='rectangular')\n",
       "    Topology of the map.\n",
       "    Possible values: 'euclidean', 'hexagonal'\n",
       "\n",
       "activation_distance : string, optional (default='euclidean')\n",
       "    Distance used to activate the map.\n",
       "    Possible values: 'euclidean', 'cosine', 'manhattan'\n",
       "\n",
       "random_seed : int, optional (default=None)\n",
       "    Random seed to use.\n",
       "\u001b[0;31mFile:\u001b[0m           ~/miniconda3/envs/py3.6/lib/python3.6/site-packages/minisom.py\n",
       "\u001b[0;31mType:\u001b[0m           type\n",
       "\u001b[0;31mSubclasses:\u001b[0m     \n"
      ]
     },
     "metadata": {},
     "output_type": "display_data"
    }
   ],
   "source": [
    "?MiniSom"
   ]
  },
  {
   "cell_type": "code",
   "execution_count": 8,
   "metadata": {},
   "outputs": [],
   "source": [
    "som = MiniSom(x=som_grid_rows,\n",
    "             y=som_grid_columns,\n",
    "             input_len = data_sc.shape[1],\n",
    "             sigma=sigma, topology = 'hexagonal',\n",
    "             learning_rate=learning_rate)\n",
    "som.random_weights_init(data)"
   ]
  },
  {
   "cell_type": "code",
   "execution_count": null,
   "metadata": {},
   "outputs": [],
   "source": []
  },
  {
   "cell_type": "code",
   "execution_count": 9,
   "metadata": {},
   "outputs": [
    {
     "name": "stdout",
     "output_type": "stream",
     "text": [
      "0.0507807731628418\n"
     ]
    }
   ],
   "source": [
    "# entrenamiento\n",
    "\n",
    "inicial = time.time()\n",
    "\n",
    "som.train_random(data,iterations)\n",
    "\n",
    "final = time.time() - inicial\n",
    "\n",
    "print(final)"
   ]
  },
  {
   "cell_type": "code",
   "execution_count": 10,
   "metadata": {},
   "outputs": [
    {
     "data": {
      "image/png": "[encoded data removed]",
      "text/plain": [
       "<Figure size 864x576 with 2 Axes>"
      ]
     },
     "metadata": {
      "needs_background": "light"
     },
     "output_type": "display_data"
    }
   ],
   "source": [
    "plt.figure(figsize=((12,8)))\n",
    "bone()\n",
    "pcolor(som.distance_map().T)\n",
    "colorbar()\n",
    "markers = ['o','s', 'D']\n",
    "colors=['r','g', 'b']\n",
    "for i, x in enumerate(data):\n",
    "    w = som.winner(x)\n",
    "    plot(w[0]+.5,\n",
    "         w[1]+.5,\n",
    "         markers[target[i]],\n",
    "        markeredgecolor=colors[target[i]],\n",
    "        markerfacecolor='None',\n",
    "        markersize=10,\n",
    "        markeredgewidth=2)\n",
    "show()\n"
   ]
  },
  {
   "cell_type": "code",
   "execution_count": 17,
   "metadata": {},
   "outputs": [
    {
     "data": {
      "text/plain": [
       "<matplotlib.colorbar.Colorbar at 0x7fc80e78d3c8>"
      ]
     },
     "execution_count": 17,
     "metadata": {},
     "output_type": "execute_result"
    },
    {
     "data": {
      "image/png": "[encoded data removed]",
      "text/plain": [
       "<Figure size 432x432 with 2 Axes>"
      ]
     },
     "metadata": {
      "needs_background": "light"
     },
     "output_type": "display_data"
    }
   ],
   "source": [
    "plt.figure(figsize=((6,6)))\n",
    "plt.imshow(som.distance_map())\n",
    "plt.colorbar()"
   ]
  },
  {
   "cell_type": "code",
   "execution_count": 18,
   "metadata": {},
   "outputs": [
    {
     "data": {
      "text/plain": [
       "<matplotlib.axes._subplots.AxesSubplot at 0x7fc80e6efba8>"
      ]
     },
     "execution_count": 18,
     "metadata": {},
     "output_type": "execute_result"
    },
    {
     "data": {
      "image/png": "[encoded data removed]",
      "text/plain": [
       "<Figure size 432x288 with 2 Axes>"
      ]
     },
     "metadata": {
      "needs_background": "light"
     },
     "output_type": "display_data"
    }
   ],
   "source": [
    "sns.heatmap(som.distance_map())"
   ]
  },
  {
   "cell_type": "code",
   "execution_count": 13,
   "metadata": {},
   "outputs": [
    {
     "data": {
      "text/plain": [
       "(297, collections.defaultdict)"
      ]
     },
     "execution_count": 13,
     "metadata": {},
     "output_type": "execute_result"
    }
   ],
   "source": [
    "mappings=som.win_map(data)\n",
    "len(mappings), type(mappings)"
   ]
  },
  {
   "cell_type": "code",
   "execution_count": 14,
   "metadata": {},
   "outputs": [],
   "source": [
    "#mappings"
   ]
  },
  {
   "cell_type": "code",
   "execution_count": 19,
   "metadata": {},
   "outputs": [],
   "source": [
    "#detecciones = np.concatenate([mappings[(1,1)], mappings[(1,8)]])\n",
    "#detecciones"
   ]
  },
  {
   "cell_type": "code",
   "execution_count": 20,
   "metadata": {},
   "outputs": [],
   "source": [
    "#sc.inverse_transform(detecciones)"
   ]
  },
  {
   "cell_type": "code",
   "execution_count": 22,
   "metadata": {},
   "outputs": [],
   "source": [
    "dataset = load_breast_cancer()\n",
    "target= dataset.target\n",
    "target_names = dataset.target_names\n",
    "data = pd.DataFrame(dataset.data, columns=dataset.feature_names)\n",
    "data.index.name = \"SampleID\""
   ]
  },
  {
   "cell_type": "code",
   "execution_count": 23,
   "metadata": {},
   "outputs": [
    {
     "data": {
      "text/html": [
       "<div>\n",
       "<style scoped>\n",
       "    .dataframe tbody tr th:only-of-type {\n",
       "        vertical-align: middle;\n",
       "    }\n",
       "\n",
       "    .dataframe tbody tr th {\n",
       "        vertical-align: top;\n",
       "    }\n",
       "\n",
       "    .dataframe thead th {\n",
       "        text-align: right;\n",
       "    }\n",
       "</style>\n",
       "<table border=\"1\" class=\"dataframe\">\n",
       "  <thead>\n",
       "    <tr style=\"text-align: right;\">\n",
       "      <th></th>\n",
       "      <th>mean radius</th>\n",
       "      <th>mean texture</th>\n",
       "      <th>mean perimeter</th>\n",
       "      <th>mean area</th>\n",
       "      <th>mean smoothness</th>\n",
       "      <th>mean compactness</th>\n",
       "      <th>mean concavity</th>\n",
       "      <th>mean concave points</th>\n",
       "      <th>mean symmetry</th>\n",
       "      <th>mean fractal dimension</th>\n",
       "      <th>...</th>\n",
       "      <th>worst radius</th>\n",
       "      <th>worst texture</th>\n",
       "      <th>worst perimeter</th>\n",
       "      <th>worst area</th>\n",
       "      <th>worst smoothness</th>\n",
       "      <th>worst compactness</th>\n",
       "      <th>worst concavity</th>\n",
       "      <th>worst concave points</th>\n",
       "      <th>worst symmetry</th>\n",
       "      <th>worst fractal dimension</th>\n",
       "    </tr>\n",
       "    <tr>\n",
       "      <th>SampleID</th>\n",
       "      <th></th>\n",
       "      <th></th>\n",
       "      <th></th>\n",
       "      <th></th>\n",
       "      <th></th>\n",
       "      <th></th>\n",
       "      <th></th>\n",
       "      <th></th>\n",
       "      <th></th>\n",
       "      <th></th>\n",
       "      <th></th>\n",
       "      <th></th>\n",
       "      <th></th>\n",
       "      <th></th>\n",
       "      <th></th>\n",
       "      <th></th>\n",
       "      <th></th>\n",
       "      <th></th>\n",
       "      <th></th>\n",
       "      <th></th>\n",
       "      <th></th>\n",
       "    </tr>\n",
       "  </thead>\n",
       "  <tbody>\n",
       "    <tr>\n",
       "      <th>0</th>\n",
       "      <td>17.99</td>\n",
       "      <td>10.38</td>\n",
       "      <td>122.80</td>\n",
       "      <td>1001.0</td>\n",
       "      <td>0.11840</td>\n",
       "      <td>0.27760</td>\n",
       "      <td>0.3001</td>\n",
       "      <td>0.14710</td>\n",
       "      <td>0.2419</td>\n",
       "      <td>0.07871</td>\n",
       "      <td>...</td>\n",
       "      <td>25.38</td>\n",
       "      <td>17.33</td>\n",
       "      <td>184.60</td>\n",
       "      <td>2019.0</td>\n",
       "      <td>0.1622</td>\n",
       "      <td>0.6656</td>\n",
       "      <td>0.7119</td>\n",
       "      <td>0.2654</td>\n",
       "      <td>0.4601</td>\n",
       "      <td>0.11890</td>\n",
       "    </tr>\n",
       "    <tr>\n",
       "      <th>1</th>\n",
       "      <td>20.57</td>\n",
       "      <td>17.77</td>\n",
       "      <td>132.90</td>\n",
       "      <td>1326.0</td>\n",
       "      <td>0.08474</td>\n",
       "      <td>0.07864</td>\n",
       "      <td>0.0869</td>\n",
       "      <td>0.07017</td>\n",
       "      <td>0.1812</td>\n",
       "      <td>0.05667</td>\n",
       "      <td>...</td>\n",
       "      <td>24.99</td>\n",
       "      <td>23.41</td>\n",
       "      <td>158.80</td>\n",
       "      <td>1956.0</td>\n",
       "      <td>0.1238</td>\n",
       "      <td>0.1866</td>\n",
       "      <td>0.2416</td>\n",
       "      <td>0.1860</td>\n",
       "      <td>0.2750</td>\n",
       "      <td>0.08902</td>\n",
       "    </tr>\n",
       "    <tr>\n",
       "      <th>2</th>\n",
       "      <td>19.69</td>\n",
       "      <td>21.25</td>\n",
       "      <td>130.00</td>\n",
       "      <td>1203.0</td>\n",
       "      <td>0.10960</td>\n",
       "      <td>0.15990</td>\n",
       "      <td>0.1974</td>\n",
       "      <td>0.12790</td>\n",
       "      <td>0.2069</td>\n",
       "      <td>0.05999</td>\n",
       "      <td>...</td>\n",
       "      <td>23.57</td>\n",
       "      <td>25.53</td>\n",
       "      <td>152.50</td>\n",
       "      <td>1709.0</td>\n",
       "      <td>0.1444</td>\n",
       "      <td>0.4245</td>\n",
       "      <td>0.4504</td>\n",
       "      <td>0.2430</td>\n",
       "      <td>0.3613</td>\n",
       "      <td>0.08758</td>\n",
       "    </tr>\n",
       "    <tr>\n",
       "      <th>3</th>\n",
       "      <td>11.42</td>\n",
       "      <td>20.38</td>\n",
       "      <td>77.58</td>\n",
       "      <td>386.1</td>\n",
       "      <td>0.14250</td>\n",
       "      <td>0.28390</td>\n",
       "      <td>0.2414</td>\n",
       "      <td>0.10520</td>\n",
       "      <td>0.2597</td>\n",
       "      <td>0.09744</td>\n",
       "      <td>...</td>\n",
       "      <td>14.91</td>\n",
       "      <td>26.50</td>\n",
       "      <td>98.87</td>\n",
       "      <td>567.7</td>\n",
       "      <td>0.2098</td>\n",
       "      <td>0.8663</td>\n",
       "      <td>0.6869</td>\n",
       "      <td>0.2575</td>\n",
       "      <td>0.6638</td>\n",
       "      <td>0.17300</td>\n",
       "    </tr>\n",
       "    <tr>\n",
       "      <th>4</th>\n",
       "      <td>20.29</td>\n",
       "      <td>14.34</td>\n",
       "      <td>135.10</td>\n",
       "      <td>1297.0</td>\n",
       "      <td>0.10030</td>\n",
       "      <td>0.13280</td>\n",
       "      <td>0.1980</td>\n",
       "      <td>0.10430</td>\n",
       "      <td>0.1809</td>\n",
       "      <td>0.05883</td>\n",
       "      <td>...</td>\n",
       "      <td>22.54</td>\n",
       "      <td>16.67</td>\n",
       "      <td>152.20</td>\n",
       "      <td>1575.0</td>\n",
       "      <td>0.1374</td>\n",
       "      <td>0.2050</td>\n",
       "      <td>0.4000</td>\n",
       "      <td>0.1625</td>\n",
       "      <td>0.2364</td>\n",
       "      <td>0.07678</td>\n",
       "    </tr>\n",
       "  </tbody>\n",
       "</table>\n",
       "<p>5 rows × 30 columns</p>\n",
       "</div>"
      ],
      "text/plain": [
       "          mean radius  mean texture  mean perimeter  mean area  \\\n",
       "SampleID                                                         \n",
       "0               17.99         10.38          122.80     1001.0   \n",
       "1               20.57         17.77          132.90     1326.0   \n",
       "2               19.69         21.25          130.00     1203.0   \n",
       "3               11.42         20.38           77.58      386.1   \n",
       "4               20.29         14.34          135.10     1297.0   \n",
       "\n",
       "          mean smoothness  mean compactness  mean concavity  \\\n",
       "SampleID                                                      \n",
       "0                 0.11840           0.27760          0.3001   \n",
       "1                 0.08474           0.07864          0.0869   \n",
       "2                 0.10960           0.15990          0.1974   \n",
       "3                 0.14250           0.28390          0.2414   \n",
       "4                 0.10030           0.13280          0.1980   \n",
       "\n",
       "          mean concave points  mean symmetry  mean fractal dimension  ...  \\\n",
       "SampleID                                                              ...   \n",
       "0                     0.14710         0.2419                 0.07871  ...   \n",
       "1                     0.07017         0.1812                 0.05667  ...   \n",
       "2                     0.12790         0.2069                 0.05999  ...   \n",
       "3                     0.10520         0.2597                 0.09744  ...   \n",
       "4                     0.10430         0.1809                 0.05883  ...   \n",
       "\n",
       "          worst radius  worst texture  worst perimeter  worst area  \\\n",
       "SampleID                                                             \n",
       "0                25.38          17.33           184.60      2019.0   \n",
       "1                24.99          23.41           158.80      1956.0   \n",
       "2                23.57          25.53           152.50      1709.0   \n",
       "3                14.91          26.50            98.87       567.7   \n",
       "4                22.54          16.67           152.20      1575.0   \n",
       "\n",
       "          worst smoothness  worst compactness  worst concavity  \\\n",
       "SampleID                                                         \n",
       "0                   0.1622             0.6656           0.7119   \n",
       "1                   0.1238             0.1866           0.2416   \n",
       "2                   0.1444             0.4245           0.4504   \n",
       "3                   0.2098             0.8663           0.6869   \n",
       "4                   0.1374             0.2050           0.4000   \n",
       "\n",
       "          worst concave points  worst symmetry  worst fractal dimension  \n",
       "SampleID                                                                 \n",
       "0                       0.2654          0.4601                  0.11890  \n",
       "1                       0.1860          0.2750                  0.08902  \n",
       "2                       0.2430          0.3613                  0.08758  \n",
       "3                       0.2575          0.6638                  0.17300  \n",
       "4                       0.1625          0.2364                  0.07678  \n",
       "\n",
       "[5 rows x 30 columns]"
      ]
     },
     "execution_count": 23,
     "metadata": {},
     "output_type": "execute_result"
    }
   ],
   "source": [
    "data.head()"
   ]
  },
  {
   "cell_type": "code",
   "execution_count": 65,
   "metadata": {},
   "outputs": [
    {
     "data": {
      "text/plain": [
       "569"
      ]
     },
     "execution_count": 65,
     "metadata": {},
     "output_type": "execute_result"
    }
   ],
   "source": [
    "len(target.T)"
   ]
  },
  {
   "cell_type": "code",
   "execution_count": 64,
   "metadata": {},
   "outputs": [
    {
     "ename": "IndexError",
     "evalue": "only integers, slices (`:`), ellipsis (`...`), numpy.newaxis (`None`) and integer or boolean arrays are valid indices",
     "output_type": "error",
     "traceback": [
      "\u001b[0;31m---------------------------------------------------------------------------\u001b[0m",
      "\u001b[0;31mIndexError\u001b[0m                                Traceback (most recent call last)",
      "\u001b[0;32m<ipython-input-64-a93c5d26f3bb>\u001b[0m in \u001b[0;36m<module>\u001b[0;34m\u001b[0m\n\u001b[0;32m----> 1\u001b[0;31m \u001b[0mdata\u001b[0m\u001b[0;34m[\u001b[0m\u001b[0;34m\"objetivo\"\u001b[0m\u001b[0;34m]\u001b[0m \u001b[0;34m=\u001b[0m \u001b[0mlist\u001b[0m\u001b[0;34m(\u001b[0m\u001b[0mtarget\u001b[0m\u001b[0;34m.\u001b[0m\u001b[0mT\u001b[0m\u001b[0;34m)\u001b[0m\u001b[0;34m\u001b[0m\u001b[0;34m\u001b[0m\u001b[0m\n\u001b[0m",
      "\u001b[0;31mIndexError\u001b[0m: only integers, slices (`:`), ellipsis (`...`), numpy.newaxis (`None`) and integer or boolean arrays are valid indices"
     ]
    }
   ],
   "source": [
    "data[\"objetivo\"] = list(target.T)"
   ]
  },
  {
   "cell_type": "code",
   "execution_count": 24,
   "metadata": {},
   "outputs": [
    {
     "data": {
      "image/png": "[encoded data removed]",
      "text/plain": [
       "<Figure size 720x720 with 1 Axes>"
      ]
     },
     "metadata": {
      "needs_background": "light"
     },
     "output_type": "display_data"
    }
   ],
   "source": [
    "plt.figure(figsize=(10,10))\n",
    "sns.distplot(data.loc[:,\"mean symmetry\"], label=\"ms\")\n",
    "sns.distplot(data.loc[:,\"worst texture\"], label=\"wt\")\n",
    "plt.title(\"Distribuciones\")\n",
    "plt.legend()\n",
    "plt.xlabel(\"Radio\")\n",
    "plt.ylabel(\"Densidad\")\n",
    "plt.show()"
   ]
  },
  {
   "cell_type": "code",
   "execution_count": 25,
   "metadata": {},
   "outputs": [],
   "source": [
    "x = 10\n",
    "y=10\n",
    "input_len = data.shape[1]\n",
    "\n",
    "sigma = 2\n",
    "\n",
    "learning_rate = 5\n",
    "\n",
    "iterations = 200\n"
   ]
  },
  {
   "cell_type": "code",
   "execution_count": 26,
   "metadata": {},
   "outputs": [],
   "source": [
    "data = np.array(data)\n",
    "som = MiniSom(x=x,\n",
    "              y=y,\n",
    "              input_len=input_len,\n",
    "              sigma=sigma,\n",
    "              learning_rate=learning_rate)\n",
    "\n",
    "som.random_weights_init(data)"
   ]
  },
  {
   "cell_type": "code",
   "execution_count": 27,
   "metadata": {},
   "outputs": [
    {
     "name": "stdout",
     "output_type": "stream",
     "text": [
      "0.026813983917236328 s\n"
     ]
    }
   ],
   "source": [
    "inicial = time.time()\n",
    "\n",
    "som.train_random(data, iterations)\n",
    "\n",
    "final= time.time()- inicial\n",
    "\n",
    "print(final, \"s\")"
   ]
  },
  {
   "cell_type": "code",
   "execution_count": 31,
   "metadata": {},
   "outputs": [
    {
     "data": {
      "image/png": "[encoded data removed]",
      "text/plain": [
       "<Figure size 720x720 with 2 Axes>"
      ]
     },
     "metadata": {
      "needs_background": "light"
     },
     "output_type": "display_data"
    }
   ],
   "source": [
    "plt.figure(figsize=(10,10))\n",
    "bone()\n",
    "pcolor(som.distance_map().T)\n",
    "colorbar()\n",
    "\n",
    "markers = ['o','s','D']\n",
    "colors = ['r','g','b']\n",
    "\n",
    "for i,j in enumerate(data):\n",
    "    w = som.winner(j)\n",
    "    plot(w[0]+.5,\n",
    "         w[1]+.5,\n",
    "         markers[target[i]],\n",
    "        markeredgecolor=colors[target[i]],\n",
    "        markerfacecolor='None',\n",
    "        markersize=12,\n",
    "        markeredgewidth=2)\n",
    "show()"
   ]
  },
  {
   "cell_type": "code",
   "execution_count": 21,
   "metadata": {},
   "outputs": [],
   "source": [
    "def entrenamiento(x,y, input_len, sigma, learning_rate):\n",
    "    som = MiniSom(x=x,\n",
    "              y=y,\n",
    "              input_len=input_len,\n",
    "              sigma=sigma,\n",
    "              learning_rate=learning_rate)\n",
    "    som.random_weights_init(data)\n",
    "    inicial = time.time()\n",
    "    som.train_random(data, iterations)\n",
    "    final = time.time()- inicial\n",
    "    print(final, \"s\")\n",
    "    return som\n",
    "\n",
    "def som_viz(som):\n",
    "    plt.figure(figsize=(10,10))\n",
    "    bone()\n",
    "    pcolor(som.distance_map().T)\n",
    "    colorbar()\n",
    "\n",
    "    markers = ['o','s','D']\n",
    "    colors = ['r','g','b']\n",
    "\n",
    "    for i,j in enumerate(data):\n",
    "        w = som.winner(j)\n",
    "        plot(w[0]+.5,\n",
    "             w[1]+.5,\n",
    "             markers[target[i]],\n",
    "            markeredgecolor=colors[target[i]],\n",
    "            markerfacecolor='None',\n",
    "            markersize=12,\n",
    "            markeredgewidth=2)\n",
    "    axis([0,som._weights.shape[0],0,som._weights.shape[1]])\n",
    "    show()"
   ]
  },
  {
   "cell_type": "code",
   "execution_count": 43,
   "metadata": {},
   "outputs": [],
   "source": [
    "rows_data = data.shape[0]\n",
    "\n",
    "x = int(np.sqrt(5*np.sqrt(rows_data)))\n",
    "y = x"
   ]
  },
  {
   "cell_type": "code",
   "execution_count": 44,
   "metadata": {},
   "outputs": [
    {
     "name": "stdout",
     "output_type": "stream",
     "text": [
      "x es 10\n",
      "y es 10\n",
      "input_len es 30\n",
      "sigma es 0.003\n",
      "learning_rate es 5\n",
      "iterations son 100\n"
     ]
    }
   ],
   "source": [
    "input_len = data.shape[1]\n",
    "sigma = 0.003\n",
    "learning_rate=5\n",
    "iterations = 100\n",
    "print(\"x es {}\".format(x))\n",
    "print(\"y es {}\".format(y))\n",
    "print(\"input_len es {}\".format(input_len))\n",
    "print(\"sigma es {}\".format(sigma))\n",
    "print(\"learning_rate es {}\".format(learning_rate))\n",
    "print(\"iterations son {}\".format(iterations))"
   ]
  },
  {
   "cell_type": "code",
   "execution_count": 43,
   "metadata": {},
   "outputs": [
    {
     "name": "stdout",
     "output_type": "stream",
     "text": [
      "0.018314361572265625 s\n"
     ]
    }
   ],
   "source": [
    "som = entrenamiento(x,y,input_len,30,learning_rate)"
   ]
  },
  {
   "cell_type": "code",
   "execution_count": 45,
   "metadata": {},
   "outputs": [
    {
     "data": {
      "image/png": "[encoded data removed]",
      "text/plain": [
       "<Figure size 720x720 with 2 Axes>"
      ]
     },
     "metadata": {
      "needs_background": "light"
     },
     "output_type": "display_data"
    }
   ],
   "source": [
    "som_viz(som)"
   ]
  },
  {
   "cell_type": "markdown",
   "metadata": {},
   "source": [
    "# Optimización bayesiana"
   ]
  },
  {
   "cell_type": "markdown",
   "metadata": {},
   "source": [
    "## optimizando el radio de la vecindad, sigma"
   ]
  },
  {
   "cell_type": "code",
   "execution_count": 16,
   "metadata": {},
   "outputs": [
    {
     "name": "stdout",
     "output_type": "stream",
     "text": [
      "100%|██████████| 200/200 [00:01<00:00, 108.75trial/s, best loss: 1111.1633809459317]\n",
      "1.8484249114990234 s\n",
      "{'qs': 2.1756575465085755}\n"
     ]
    }
   ],
   "source": [
    "inicial = time.time()\n",
    "\n",
    "opt = fmin(\n",
    "    fn = lambda qs: MiniSom(x=x,\n",
    "                             y=y,\n",
    "                             input_len=input_len,\n",
    "                             sigma=qs,\n",
    "                             learning_rate=learning_rate).quantization_error(data),\n",
    "    space = hp.uniform(\"qs\", 0.001 , x/2.01),\n",
    "    algo = tpe.suggest,\n",
    "    max_evals = 200)\n",
    "\n",
    "final = time.time() - inicial\n",
    "\n",
    "print(final, \"s\")\n",
    "print(opt)"
   ]
  },
  {
   "cell_type": "code",
   "execution_count": 18,
   "metadata": {},
   "outputs": [],
   "source": [
    "sigma = opt['qs']"
   ]
  },
  {
   "cell_type": "code",
   "execution_count": 22,
   "metadata": {},
   "outputs": [
    {
     "name": "stdout",
     "output_type": "stream",
     "text": [
      "0.008646011352539062 s\n"
     ]
    }
   ],
   "source": [
    "som = entrenamiento(x,y,input_len,sigma,learning_rate)"
   ]
  },
  {
   "cell_type": "code",
   "execution_count": 25,
   "metadata": {},
   "outputs": [
    {
     "data": {
      "image/png": "[encoded data removed]",
      "text/plain": [
       "<Figure size 720x720 with 2 Axes>"
      ]
     },
     "metadata": {
      "needs_background": "light"
     },
     "output_type": "display_data"
    }
   ],
   "source": [
    "som_viz(som)"
   ]
  },
  {
   "cell_type": "markdown",
   "metadata": {},
   "source": [
    "## optimizando la constante de aprendizaje"
   ]
  },
  {
   "cell_type": "code",
   "execution_count": 47,
   "metadata": {},
   "outputs": [],
   "source": [
    "b_grid = {\n",
    "    'qs': hp.uniform('qs', 0.001, 5),\n",
    "    'lr': hp.uniform('lr', 0.001, 5)\n",
    "    \n",
    "}"
   ]
  },
  {
   "cell_type": "code",
   "execution_count": 48,
   "metadata": {},
   "outputs": [],
   "source": [
    "def som_opt(b_grid):\n",
    "    sigma = b_grid['qs']\n",
    "    learning_rate = b_grid['lr']\n",
    "    val = MiniSom(x=x,\n",
    "                 y=y,\n",
    "                 input_len=input_len,\n",
    "                 sigma=sigma,\n",
    "                 learning_rate=learning_rate).quantization_error(data)\n",
    "    print(val)\n",
    "    return {'loss': val, 'status':STATUS_OK} \n",
    "    "
   ]
  },
  {
   "cell_type": "code",
   "execution_count": null,
   "metadata": {},
   "outputs": [],
   "source": [
    "inicial = time.time()\n",
    "\n",
    "trials = Trials()\n",
    "\n",
    "opt = fmin(\n",
    "    fn = som_opt,\n",
    "    space = b_grid,\n",
    "    algo = tpe.suggest,\n",
    "    max_evals = 200,\n",
    "    trials = trials)\n",
    "\n",
    "final = time.time() - inicial\n",
    "\n",
    "print(final, \"s\")\n",
    "print('best:{}'.format(opt))"
   ]
  },
  {
   "cell_type": "code",
   "execution_count": 50,
   "metadata": {},
   "outputs": [
    {
     "name": "stdout",
     "output_type": "stream",
     "text": [
      "0 {'state': 2, 'tid': 0, 'spec': None, 'result': {'loss': 1111.2026952564634, 'status': 'ok'}, 'misc': {'tid': 0, 'cmd': ('domain_attachment', 'FMinIter_Domain'), 'workdir': None, 'idxs': {'lr': [0], 'qs': [0]}, 'vals': {'lr': [2.9997791100655817], 'qs': [1.4681145760607324]}}, 'exp_key': None, 'owner': None, 'version': 0, 'book_time': datetime.datetime(2020, 6, 25, 16, 59, 16, 594000), 'refresh_time': datetime.datetime(2020, 6, 25, 16, 59, 16, 606000)}\n",
      "1 {'state': 2, 'tid': 1, 'spec': None, 'result': {'loss': 1111.3530015615909, 'status': 'ok'}, 'misc': {'tid': 1, 'cmd': ('domain_attachment', 'FMinIter_Domain'), 'workdir': None, 'idxs': {'lr': [1], 'qs': [1]}, 'vals': {'lr': [1.0373318423973417], 'qs': [1.4242653756404138]}}, 'exp_key': None, 'owner': None, 'version': 0, 'book_time': datetime.datetime(2020, 6, 25, 16, 59, 16, 609000), 'refresh_time': datetime.datetime(2020, 6, 25, 16, 59, 16, 614000)}\n"
     ]
    }
   ],
   "source": [
    "for i, trial in enumerate(trials.trials[:2]):\n",
    "    print(i,trial)"
   ]
  },
  {
   "cell_type": "code",
   "execution_count": 51,
   "metadata": {},
   "outputs": [],
   "source": [
    "sigma = b_grid['qs']\n",
    "learning_rate=b_grid['lr']"
   ]
  },
  {
   "cell_type": "code",
   "execution_count": 54,
   "metadata": {},
   "outputs": [
    {
     "name": "stdout",
     "output_type": "stream",
     "text": [
      "0.006812095642089844 s\n"
     ]
    }
   ],
   "source": [
    "som = entrenamiento(x,y,input_len,2,1.2)"
   ]
  },
  {
   "cell_type": "code",
   "execution_count": 57,
   "metadata": {},
   "outputs": [
    {
     "data": {
      "image/png": "[encoded data removed]",
      "text/plain": [
       "<Figure size 720x720 with 2 Axes>"
      ]
     },
     "metadata": {
      "needs_background": "light"
     },
     "output_type": "display_data"
    }
   ],
   "source": [
    "som_viz(som)"
   ]
  },
  {
   "cell_type": "markdown",
   "metadata": {},
   "source": [
    "# Esto es para una nueva sección"
   ]
  },
  {
   "cell_type": "code",
   "execution_count": null,
   "metadata": {},
   "outputs": [],
   "source": [
    "pca = PCA(.5,random_state=2020)\n",
    "#scaler = StandardScaler()\n",
    "#scaler.fit(df[X_cuentas])\n",
    "x_scal = StandardScaler().fit_transform(df[X_cuentas].values)\n",
    "pca.fit_transform(x_scal)"
   ]
  },
  {
   "cell_type": "code",
   "execution_count": null,
   "metadata": {},
   "outputs": [],
   "source": [
    "print(pca.explained_variance_ratio_)"
   ]
  },
  {
   "cell_type": "code",
   "execution_count": null,
   "metadata": {},
   "outputs": [],
   "source": [
    "pca = PCA(.5,random_state=2020)\n",
    "#scaler = StandardScaler()\n",
    "#scaler.fit(df[X_cuentas])\n",
    "x_scal_r = StandardScaler().fit_transform(df[X_respons].values)\n",
    "pca.fit_transform(x_scal_r)"
   ]
  }
 ],
 "metadata": {
  "kernelspec": {
   "display_name": "Python 3",
   "language": "python",
   "name": "python3"
  },
  "language_info": {
   "codemirror_mode": {
    "name": "ipython",
    "version": 3
   },
   "file_extension": ".py",
   "mimetype": "text/x-python",
   "name": "python",
   "nbconvert_exporter": "python",
   "pygments_lexer": "ipython3",
   "version": "3.6.10"
  }
 },
 "nbformat": 4,
 "nbformat_minor": 4
}
