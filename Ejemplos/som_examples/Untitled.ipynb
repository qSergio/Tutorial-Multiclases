{
 "cells": [
  {
   "cell_type": "markdown",
   "metadata": {},
   "source": [
    "# Primer intento de SOM"
   ]
  },
  {
   "cell_type": "markdown",
   "metadata": {},
   "source": [
    "## Primero revisaremos si funciona para detectar clusters"
   ]
  },
  {
   "cell_type": "code",
   "execution_count": 4,
   "metadata": {},
   "outputs": [],
   "source": [
    "from IPython.display import Image, display\n",
    "\n",
    "from minisom import MiniSom\n",
    "from sklearn.datasets import load_breast_cancer\n",
    "from hyperopt import fmin, tpe, hp\n",
    "\n",
    "\n",
    "import time\n",
    "import numpy as np\n",
    "import pandas as pd\n",
    "\n",
    "import matplotlib.pyplot as plt\n",
    "import seaborn as sns\n",
    "from pylab import plot,axis,show,pcolor,colorbar,bone\n"
   ]
  },
  {
   "cell_type": "code",
   "execution_count": 1,
   "metadata": {},
   "outputs": [],
   "source": [
    "som_grid_rows = 6\n",
    "som_grid_columns = 6\n",
    "iterations = 500\n",
    "sigma = 2\n",
    "learning_rate = .1"
   ]
  },
  {
   "cell_type": "code",
   "execution_count": 5,
   "metadata": {},
   "outputs": [
    {
     "name": "stderr",
     "output_type": "stream",
     "text": [
      "/home/sergio/miniconda3/envs/py3.6/lib/python3.6/site-packages/sklearn/utils/validation.py:71: FutureWarning: Pass return_X_y=True as keyword args. From version 0.25 passing these as positional arguments will result in an error\n",
      "  FutureWarning)\n"
     ]
    }
   ],
   "source": [
    "data, target = load_breast_cancer(True)"
   ]
  },
  {
   "cell_type": "code",
   "execution_count": 6,
   "metadata": {},
   "outputs": [
    {
     "data": {
      "text/plain": [
       "((569, 30), (569,))"
      ]
     },
     "execution_count": 6,
     "metadata": {},
     "output_type": "execute_result"
    }
   ],
   "source": [
    "data.shape, target.shape"
   ]
  },
  {
   "cell_type": "code",
   "execution_count": 7,
   "metadata": {},
   "outputs": [
    {
     "data": {
      "text/plain": [
       "MinMaxScaler()"
      ]
     },
     "execution_count": 7,
     "metadata": {},
     "output_type": "execute_result"
    }
   ],
   "source": [
    "from sklearn.preprocessing import MinMaxScaler\n",
    "sc = MinMaxScaler()\n",
    "sc"
   ]
  },
  {
   "cell_type": "code",
   "execution_count": 8,
   "metadata": {},
   "outputs": [
    {
     "data": {
      "text/plain": [
       "(569, 30)"
      ]
     },
     "execution_count": 8,
     "metadata": {},
     "output_type": "execute_result"
    }
   ],
   "source": [
    "data_sc = sc.fit_transform(data)\n",
    "data_sc.shape"
   ]
  },
  {
   "cell_type": "code",
   "execution_count": 12,
   "metadata": {},
   "outputs": [
    {
     "data": {
      "text/plain": [
       "\u001b[0;31mInit signature:\u001b[0m\n",
       "\u001b[0mMiniSom\u001b[0m\u001b[0;34m(\u001b[0m\u001b[0;34m\u001b[0m\n",
       "\u001b[0;34m\u001b[0m    \u001b[0mx\u001b[0m\u001b[0;34m,\u001b[0m\u001b[0;34m\u001b[0m\n",
       "\u001b[0;34m\u001b[0m    \u001b[0my\u001b[0m\u001b[0;34m,\u001b[0m\u001b[0;34m\u001b[0m\n",
       "\u001b[0;34m\u001b[0m    \u001b[0minput_len\u001b[0m\u001b[0;34m,\u001b[0m\u001b[0;34m\u001b[0m\n",
       "\u001b[0;34m\u001b[0m    \u001b[0msigma\u001b[0m\u001b[0;34m=\u001b[0m\u001b[0;36m1.0\u001b[0m\u001b[0;34m,\u001b[0m\u001b[0;34m\u001b[0m\n",
       "\u001b[0;34m\u001b[0m    \u001b[0mlearning_rate\u001b[0m\u001b[0;34m=\u001b[0m\u001b[0;36m0.5\u001b[0m\u001b[0;34m,\u001b[0m\u001b[0;34m\u001b[0m\n",
       "\u001b[0;34m\u001b[0m    \u001b[0mdecay_function\u001b[0m\u001b[0;34m=\u001b[0m\u001b[0;34m<\u001b[0m\u001b[0mfunction\u001b[0m \u001b[0masymptotic_decay\u001b[0m \u001b[0mat\u001b[0m \u001b[0;36m0x7fc82850e730\u001b[0m\u001b[0;34m>\u001b[0m\u001b[0;34m,\u001b[0m\u001b[0;34m\u001b[0m\n",
       "\u001b[0;34m\u001b[0m    \u001b[0mneighborhood_function\u001b[0m\u001b[0;34m=\u001b[0m\u001b[0;34m'gaussian'\u001b[0m\u001b[0;34m,\u001b[0m\u001b[0;34m\u001b[0m\n",
       "\u001b[0;34m\u001b[0m    \u001b[0mtopology\u001b[0m\u001b[0;34m=\u001b[0m\u001b[0;34m'rectangular'\u001b[0m\u001b[0;34m,\u001b[0m\u001b[0;34m\u001b[0m\n",
       "\u001b[0;34m\u001b[0m    \u001b[0mactivation_distance\u001b[0m\u001b[0;34m=\u001b[0m\u001b[0;34m'euclidean'\u001b[0m\u001b[0;34m,\u001b[0m\u001b[0;34m\u001b[0m\n",
       "\u001b[0;34m\u001b[0m    \u001b[0mrandom_seed\u001b[0m\u001b[0;34m=\u001b[0m\u001b[0;32mNone\u001b[0m\u001b[0;34m,\u001b[0m\u001b[0;34m\u001b[0m\n",
       "\u001b[0;34m\u001b[0m\u001b[0;34m)\u001b[0m\u001b[0;34m\u001b[0m\u001b[0;34m\u001b[0m\u001b[0m\n",
       "\u001b[0;31mDocstring:\u001b[0m      <no docstring>\n",
       "\u001b[0;31mInit docstring:\u001b[0m\n",
       "Initializes a Self Organizing Maps.\n",
       "\n",
       "A rule of thumb to set the size of the grid for a dimensionality\n",
       "reduction task is that it should contain 5*sqrt(N) neurons\n",
       "where N is the number of samples in the dataset to analyze.\n",
       "\n",
       "E.g. if your dataset has 150 samples, 5*sqrt(150) = 61.23\n",
       "hence a map 8-by-8 should perform well.\n",
       "\n",
       "Parameters\n",
       "----------\n",
       "x : int\n",
       "    x dimension of the SOM.\n",
       "\n",
       "y : int\n",
       "    y dimension of the SOM.\n",
       "\n",
       "input_len : int\n",
       "    Number of the elements of the vectors in input.\n",
       "\n",
       "sigma : float, optional (default=1.0)\n",
       "    Spread of the neighborhood function, needs to be adequate\n",
       "    to the dimensions of the map.\n",
       "    (at the iteration t we have sigma(t) = sigma / (1 + t/T)\n",
       "    where T is #num_iteration/2)\n",
       "learning_rate : initial learning rate\n",
       "    (at the iteration t we have\n",
       "    learning_rate(t) = learning_rate / (1 + t/T)\n",
       "    where T is #num_iteration/2)\n",
       "\n",
       "decay_function : function (default=None)\n",
       "    Function that reduces learning_rate and sigma at each iteration\n",
       "    the default function is:\n",
       "                learning_rate / (1+t/(max_iterarations/2))\n",
       "\n",
       "    A custom decay function will need to to take in input\n",
       "    three parameters in the following order:\n",
       "\n",
       "    1. learning rate\n",
       "    2. current iteration\n",
       "    3. maximum number of iterations allowed\n",
       "\n",
       "\n",
       "    Note that if a lambda function is used to define the decay\n",
       "    MiniSom will not be pickable anymore.\n",
       "\n",
       "neighborhood_function : string, optional (default='gaussian')\n",
       "    Function that weights the neighborhood of a position in the map.\n",
       "    Possible values: 'gaussian', 'mexican_hat', 'bubble', 'triangle'\n",
       "\n",
       "topology : string, optional (default='rectangular')\n",
       "    Topology of the map.\n",
       "    Possible values: 'euclidean', 'hexagonal'\n",
       "\n",
       "activation_distance : string, optional (default='euclidean')\n",
       "    Distance used to activate the map.\n",
       "    Possible values: 'euclidean', 'cosine', 'manhattan'\n",
       "\n",
       "random_seed : int, optional (default=None)\n",
       "    Random seed to use.\n",
       "\u001b[0;31mFile:\u001b[0m           ~/miniconda3/envs/py3.6/lib/python3.6/site-packages/minisom.py\n",
       "\u001b[0;31mType:\u001b[0m           type\n",
       "\u001b[0;31mSubclasses:\u001b[0m     \n"
      ]
     },
     "metadata": {},
     "output_type": "display_data"
    }
   ],
   "source": [
    "?MiniSom"
   ]
  },
  {
   "cell_type": "code",
   "execution_count": 14,
   "metadata": {},
   "outputs": [],
   "source": [
    "som = MiniSom(x=som_grid_rows,\n",
    "             y=som_grid_columns,\n",
    "             input_len = data_sc.shape[1],\n",
    "             sigma=sigma, topology = 'hexagonal',\n",
    "             learning_rate=learning_rate)\n",
    "som.random_weights_init(data)"
   ]
  },
  {
   "cell_type": "code",
   "execution_count": 15,
   "metadata": {},
   "outputs": [
    {
     "name": "stdout",
     "output_type": "stream",
     "text": [
      "0.027622222900390625\n"
     ]
    }
   ],
   "source": [
    "# entrenamiento\n",
    "\n",
    "inicial = time.time()\n",
    "\n",
    "som.train_random(data,iterations)\n",
    "\n",
    "final = time.time() - inicial\n",
    "\n",
    "print(final)"
   ]
  },
  {
   "cell_type": "code",
   "execution_count": 16,
   "metadata": {},
   "outputs": [
    {
     "data": {
      "image/png": "[encoded data removed]",
      "text/plain": [
       "<Figure size 864x576 with 2 Axes>"
      ]
     },
     "metadata": {
      "needs_background": "light"
     },
     "output_type": "display_data"
    }
   ],
   "source": [
    "plt.figure(figsize=((12,8)))\n",
    "bone()\n",
    "pcolor(som.distance_map().T)\n",
    "colorbar()\n",
    "markers = ['o','s']\n",
    "colors=['r','g']\n",
    "for i, x in enumerate(data):\n",
    "    w = som.winner(x)\n",
    "    plot(w[0]+.5,\n",
    "         w[1]+.5,\n",
    "         markers[target[i]],\n",
    "        markeredgecolor=colors[target[i]],\n",
    "        markerfacecolor='None',\n",
    "        markersize=10,\n",
    "        markeredgewidth=2)\n",
    "show()\n"
   ]
  },
  {
   "cell_type": "code",
   "execution_count": 17,
   "metadata": {},
   "outputs": [
    {
     "data": {
      "text/plain": [
       "<matplotlib.colorbar.Colorbar at 0x7fc80e78d3c8>"
      ]
     },
     "execution_count": 17,
     "metadata": {},
     "output_type": "execute_result"
    },
    {
     "data": {
      "image/png": "[encoded data removed]",
      "text/plain": [
       "<Figure size 432x432 with 2 Axes>"
      ]
     },
     "metadata": {
      "needs_background": "light"
     },
     "output_type": "display_data"
    }
   ],
   "source": [
    "plt.figure(figsize=((6,6)))\n",
    "plt.imshow(som.distance_map())\n",
    "plt.colorbar()"
   ]
  },
  {
   "cell_type": "code",
   "execution_count": 18,
   "metadata": {},
   "outputs": [
    {
     "data": {
      "text/plain": [
       "<matplotlib.axes._subplots.AxesSubplot at 0x7fc80e6efba8>"
      ]
     },
     "execution_count": 18,
     "metadata": {},
     "output_type": "execute_result"
    },
    {
     "data": {
      "image/png": "[encoded data removed]",
      "text/plain": [
       "<Figure size 432x288 with 2 Axes>"
      ]
     },
     "metadata": {
      "needs_background": "light"
     },
     "output_type": "display_data"
    }
   ],
   "source": [
    "sns.heatmap(som.distance_map())"
   ]
  },
  {
   "cell_type": "code",
   "execution_count": 13,
   "metadata": {},
   "outputs": [
    {
     "data": {
      "text/plain": [
       "(297, collections.defaultdict)"
      ]
     },
     "execution_count": 13,
     "metadata": {},
     "output_type": "execute_result"
    }
   ],
   "source": [
    "mappings=som.win_map(data)\n",
    "len(mappings), type(mappings)"
   ]
  },
  {
   "cell_type": "code",
   "execution_count": 14,
   "metadata": {},
   "outputs": [],
   "source": [
    "#mappings"
   ]
  },
  {
   "cell_type": "code",
   "execution_count": 19,
   "metadata": {},
   "outputs": [],
   "source": [
    "#detecciones = np.concatenate([mappings[(1,1)], mappings[(1,8)]])\n",
    "#detecciones"
   ]
  },
  {
   "cell_type": "code",
   "execution_count": 20,
   "metadata": {},
   "outputs": [],
   "source": [
    "#sc.inverse_transform(detecciones)"
   ]
  },
  {
   "cell_type": "code",
   "execution_count": 22,
   "metadata": {},
   "outputs": [],
   "source": [
    "dataset = load_breast_cancer()\n",
    "target= dataset.target\n",
    "target_names = dataset.target_names\n",
    "data = pd.DataFrame(dataset.data, columns=dataset.feature_names)\n",
    "data.index.name = \"SampleID\""
   ]
  },
  {
   "cell_type": "code",
   "execution_count": 23,
   "metadata": {},
   "outputs": [
    {
     "data": {
      "text/html": [
       "<div>\n",
       "<style scoped>\n",
       "    .dataframe tbody tr th:only-of-type {\n",
       "        vertical-align: middle;\n",
       "    }\n",
       "\n",
       "    .dataframe tbody tr th {\n",
       "        vertical-align: top;\n",
       "    }\n",
       "\n",
       "    .dataframe thead th {\n",
       "        text-align: right;\n",
       "    }\n",
       "</style>\n",
       "<table border=\"1\" class=\"dataframe\">\n",
       "  <thead>\n",
       "    <tr style=\"text-align: right;\">\n",
       "      <th></th>\n",
       "      <th>mean radius</th>\n",
       "      <th>mean texture</th>\n",
       "      <th>mean perimeter</th>\n",
       "      <th>mean area</th>\n",
       "      <th>mean smoothness</th>\n",
       "      <th>mean compactness</th>\n",
       "      <th>mean concavity</th>\n",
       "      <th>mean concave points</th>\n",
       "      <th>mean symmetry</th>\n",
       "      <th>mean fractal dimension</th>\n",
       "      <th>...</th>\n",
       "      <th>worst radius</th>\n",
       "      <th>worst texture</th>\n",
       "      <th>worst perimeter</th>\n",
       "      <th>worst area</th>\n",
       "      <th>worst smoothness</th>\n",
       "      <th>worst compactness</th>\n",
       "      <th>worst concavity</th>\n",
       "      <th>worst concave points</th>\n",
       "      <th>worst symmetry</th>\n",
       "      <th>worst fractal dimension</th>\n",
       "    </tr>\n",
       "    <tr>\n",
       "      <th>SampleID</th>\n",
       "      <th></th>\n",
       "      <th></th>\n",
       "      <th></th>\n",
       "      <th></th>\n",
       "      <th></th>\n",
       "      <th></th>\n",
       "      <th></th>\n",
       "      <th></th>\n",
       "      <th></th>\n",
       "      <th></th>\n",
       "      <th></th>\n",
       "      <th></th>\n",
       "      <th></th>\n",
       "      <th></th>\n",
       "      <th></th>\n",
       "      <th></th>\n",
       "      <th></th>\n",
       "      <th></th>\n",
       "      <th></th>\n",
       "      <th></th>\n",
       "      <th></th>\n",
       "    </tr>\n",
       "  </thead>\n",
       "  <tbody>\n",
       "    <tr>\n",
       "      <th>0</th>\n",
       "      <td>17.99</td>\n",
       "      <td>10.38</td>\n",
       "      <td>122.80</td>\n",
       "      <td>1001.0</td>\n",
       "      <td>0.11840</td>\n",
       "      <td>0.27760</td>\n",
       "      <td>0.3001</td>\n",
       "      <td>0.14710</td>\n",
       "      <td>0.2419</td>\n",
       "      <td>0.07871</td>\n",
       "      <td>...</td>\n",
       "      <td>25.38</td>\n",
       "      <td>17.33</td>\n",
       "      <td>184.60</td>\n",
       "      <td>2019.0</td>\n",
       "      <td>0.1622</td>\n",
       "      <td>0.6656</td>\n",
       "      <td>0.7119</td>\n",
       "      <td>0.2654</td>\n",
       "      <td>0.4601</td>\n",
       "      <td>0.11890</td>\n",
       "    </tr>\n",
       "    <tr>\n",
       "      <th>1</th>\n",
       "      <td>20.57</td>\n",
       "      <td>17.77</td>\n",
       "      <td>132.90</td>\n",
       "      <td>1326.0</td>\n",
       "      <td>0.08474</td>\n",
       "      <td>0.07864</td>\n",
       "      <td>0.0869</td>\n",
       "      <td>0.07017</td>\n",
       "      <td>0.1812</td>\n",
       "      <td>0.05667</td>\n",
       "      <td>...</td>\n",
       "      <td>24.99</td>\n",
       "      <td>23.41</td>\n",
       "      <td>158.80</td>\n",
       "      <td>1956.0</td>\n",
       "      <td>0.1238</td>\n",
       "      <td>0.1866</td>\n",
       "      <td>0.2416</td>\n",
       "      <td>0.1860</td>\n",
       "      <td>0.2750</td>\n",
       "      <td>0.08902</td>\n",
       "    </tr>\n",
       "    <tr>\n",
       "      <th>2</th>\n",
       "      <td>19.69</td>\n",
       "      <td>21.25</td>\n",
       "      <td>130.00</td>\n",
       "      <td>1203.0</td>\n",
       "      <td>0.10960</td>\n",
       "      <td>0.15990</td>\n",
       "      <td>0.1974</td>\n",
       "      <td>0.12790</td>\n",
       "      <td>0.2069</td>\n",
       "      <td>0.05999</td>\n",
       "      <td>...</td>\n",
       "      <td>23.57</td>\n",
       "      <td>25.53</td>\n",
       "      <td>152.50</td>\n",
       "      <td>1709.0</td>\n",
       "      <td>0.1444</td>\n",
       "      <td>0.4245</td>\n",
       "      <td>0.4504</td>\n",
       "      <td>0.2430</td>\n",
       "      <td>0.3613</td>\n",
       "      <td>0.08758</td>\n",
       "    </tr>\n",
       "    <tr>\n",
       "      <th>3</th>\n",
       "      <td>11.42</td>\n",
       "      <td>20.38</td>\n",
       "      <td>77.58</td>\n",
       "      <td>386.1</td>\n",
       "      <td>0.14250</td>\n",
       "      <td>0.28390</td>\n",
       "      <td>0.2414</td>\n",
       "      <td>0.10520</td>\n",
       "      <td>0.2597</td>\n",
       "      <td>0.09744</td>\n",
       "      <td>...</td>\n",
       "      <td>14.91</td>\n",
       "      <td>26.50</td>\n",
       "      <td>98.87</td>\n",
       "      <td>567.7</td>\n",
       "      <td>0.2098</td>\n",
       "      <td>0.8663</td>\n",
       "      <td>0.6869</td>\n",
       "      <td>0.2575</td>\n",
       "      <td>0.6638</td>\n",
       "      <td>0.17300</td>\n",
       "    </tr>\n",
       "    <tr>\n",
       "      <th>4</th>\n",
       "      <td>20.29</td>\n",
       "      <td>14.34</td>\n",
       "      <td>135.10</td>\n",
       "      <td>1297.0</td>\n",
       "      <td>0.10030</td>\n",
       "      <td>0.13280</td>\n",
       "      <td>0.1980</td>\n",
       "      <td>0.10430</td>\n",
       "      <td>0.1809</td>\n",
       "      <td>0.05883</td>\n",
       "      <td>...</td>\n",
       "      <td>22.54</td>\n",
       "      <td>16.67</td>\n",
       "      <td>152.20</td>\n",
       "      <td>1575.0</td>\n",
       "      <td>0.1374</td>\n",
       "      <td>0.2050</td>\n",
       "      <td>0.4000</td>\n",
       "      <td>0.1625</td>\n",
       "      <td>0.2364</td>\n",
       "      <td>0.07678</td>\n",
       "    </tr>\n",
       "  </tbody>\n",
       "</table>\n",
       "<p>5 rows × 30 columns</p>\n",
       "</div>"
      ],
      "text/plain": [
       "          mean radius  mean texture  mean perimeter  mean area  \\\n",
       "SampleID                                                         \n",
       "0               17.99         10.38          122.80     1001.0   \n",
       "1               20.57         17.77          132.90     1326.0   \n",
       "2               19.69         21.25          130.00     1203.0   \n",
       "3               11.42         20.38           77.58      386.1   \n",
       "4               20.29         14.34          135.10     1297.0   \n",
       "\n",
       "          mean smoothness  mean compactness  mean concavity  \\\n",
       "SampleID                                                      \n",
       "0                 0.11840           0.27760          0.3001   \n",
       "1                 0.08474           0.07864          0.0869   \n",
       "2                 0.10960           0.15990          0.1974   \n",
       "3                 0.14250           0.28390          0.2414   \n",
       "4                 0.10030           0.13280          0.1980   \n",
       "\n",
       "          mean concave points  mean symmetry  mean fractal dimension  ...  \\\n",
       "SampleID                                                              ...   \n",
       "0                     0.14710         0.2419                 0.07871  ...   \n",
       "1                     0.07017         0.1812                 0.05667  ...   \n",
       "2                     0.12790         0.2069                 0.05999  ...   \n",
       "3                     0.10520         0.2597                 0.09744  ...   \n",
       "4                     0.10430         0.1809                 0.05883  ...   \n",
       "\n",
       "          worst radius  worst texture  worst perimeter  worst area  \\\n",
       "SampleID                                                             \n",
       "0                25.38          17.33           184.60      2019.0   \n",
       "1                24.99          23.41           158.80      1956.0   \n",
       "2                23.57          25.53           152.50      1709.0   \n",
       "3                14.91          26.50            98.87       567.7   \n",
       "4                22.54          16.67           152.20      1575.0   \n",
       "\n",
       "          worst smoothness  worst compactness  worst concavity  \\\n",
       "SampleID                                                         \n",
       "0                   0.1622             0.6656           0.7119   \n",
       "1                   0.1238             0.1866           0.2416   \n",
       "2                   0.1444             0.4245           0.4504   \n",
       "3                   0.2098             0.8663           0.6869   \n",
       "4                   0.1374             0.2050           0.4000   \n",
       "\n",
       "          worst concave points  worst symmetry  worst fractal dimension  \n",
       "SampleID                                                                 \n",
       "0                       0.2654          0.4601                  0.11890  \n",
       "1                       0.1860          0.2750                  0.08902  \n",
       "2                       0.2430          0.3613                  0.08758  \n",
       "3                       0.2575          0.6638                  0.17300  \n",
       "4                       0.1625          0.2364                  0.07678  \n",
       "\n",
       "[5 rows x 30 columns]"
      ]
     },
     "execution_count": 23,
     "metadata": {},
     "output_type": "execute_result"
    }
   ],
   "source": [
    "data.head()"
   ]
  },
  {
   "cell_type": "code",
   "execution_count": 24,
   "metadata": {},
   "outputs": [
    {
     "data": {
      "image/png": "[encoded data removed]",
      "text/plain": [
       "<Figure size 720x720 with 1 Axes>"
      ]
     },
     "metadata": {
      "needs_background": "light"
     },
     "output_type": "display_data"
    }
   ],
   "source": [
    "plt.figure(figsize=(10,10))\n",
    "sns.distplot(data.loc[:,\"mean symmetry\"], label=\"ms\")\n",
    "sns.distplot(data.loc[:,\"worst texture\"], label=\"wt\")\n",
    "plt.title(\"Distribuciones\")\n",
    "plt.legend()\n",
    "plt.xlabel(\"Radio\")\n",
    "plt.ylabel(\"Densidad\")\n",
    "plt.show()"
   ]
  },
  {
   "cell_type": "code",
   "execution_count": 25,
   "metadata": {},
   "outputs": [],
   "source": [
    "x = 10\n",
    "y=10\n",
    "input_len = data.shape[1]\n",
    "\n",
    "sigma = 2\n",
    "\n",
    "learning_rate = 5\n",
    "\n",
    "iterations = 200\n"
   ]
  },
  {
   "cell_type": "code",
   "execution_count": 26,
   "metadata": {},
   "outputs": [],
   "source": [
    "data = np.array(data)\n",
    "som = MiniSom(x=x,\n",
    "              y=y,\n",
    "              input_len=input_len,\n",
    "              sigma=sigma,\n",
    "              learning_rate=learning_rate)\n",
    "\n",
    "som.random_weights_init(data)"
   ]
  },
  {
   "cell_type": "code",
   "execution_count": 27,
   "metadata": {},
   "outputs": [
    {
     "name": "stdout",
     "output_type": "stream",
     "text": [
      "0.026813983917236328 s\n"
     ]
    }
   ],
   "source": [
    "inicial = time.time()\n",
    "\n",
    "som.train_random(data, iterations)\n",
    "\n",
    "final= time.time()- inicial\n",
    "\n",
    "print(final, \"s\")"
   ]
  },
  {
   "cell_type": "code",
   "execution_count": 29,
   "metadata": {},
   "outputs": [
    {
     "data": {
      "image/png": "[encoded data removed]",
      "text/plain": [
       "<Figure size 720x720 with 2 Axes>"
      ]
     },
     "metadata": {
      "needs_background": "light"
     },
     "output_type": "display_data"
    }
   ],
   "source": [
    "plt.figure(figsize=(10,10))\n",
    "bone()\n",
    "pcolor(som.distance_map().T)\n",
    "colorbar()\n",
    "\n",
    "markers = ['o','s','D']\n",
    "colors = ['r','g','b']\n",
    "\n",
    "for i,xx in enumerate(data):\n",
    "    w = som.winner(xx)\n",
    "    plot(w[0]+.5,\n",
    "         w[1]+.5,\n",
    "         markers[target[i]],\n",
    "        markeredgecolor=colors[target[i]],\n",
    "        markerfacecolor='None',\n",
    "        markersize=12,\n",
    "        markeredgewidth=2)\n",
    "show()"
   ]
  },
  {
   "cell_type": "code",
   "execution_count": 27,
   "metadata": {},
   "outputs": [],
   "source": [
    "def train_som(x,y, input_len, sigma, learning_rate):\n",
    "    som = MiniSom(x=x,\n",
    "              y=y,\n",
    "              input_len=input_len,\n",
    "              sigma=sigma,\n",
    "              learning_rate=learning_rate)\n",
    "    som.random_weights_init(data)\n",
    "    start_time = time.time()\n",
    "    som.train_random(data, iterations)\n",
    "    elapsed_time= time.time()- start_time\n",
    "    print(elapsed_time, \"s\")\n",
    "    return som\n",
    "\n",
    "def plot_som(som):\n",
    "    plt.figure(figsize=(10,10))\n",
    "    bone()\n",
    "    pcolor(som.distance_map().T)\n",
    "    colorbar()\n",
    "\n",
    "    markers = ['o','s','D']\n",
    "    colors = ['r','g','b']\n",
    "\n",
    "    for i,xx in enumerate(data):\n",
    "        w = som.winner(xx)\n",
    "        plot(w[0]+.5,\n",
    "             w[1]+.5,\n",
    "             markers[target[i]],\n",
    "            markeredgecolor=colors[target[i]],\n",
    "            markerfacecolor='None',\n",
    "            markersize=12,\n",
    "            markeredgewidth=2)\n",
    "    axis([0,som._weights.shape[0],0,som._weights.shape[1]])\n",
    "    show()\n"
   ]
  },
  {
   "cell_type": "code",
   "execution_count": 28,
   "metadata": {},
   "outputs": [
    {
     "name": "stdout",
     "output_type": "stream",
     "text": [
      "x is 10\n"
     ]
    }
   ],
   "source": [
    "rows_data = data.shape[0]\n",
    "\n",
    "x = int(np.sqrt(5*np.sqrt(rows_data)))\n",
    "y=x\n",
    "\n",
    "input_len = data.shape[1]\n",
    "sigma = 0.003\n",
    "learning_rate=5\n",
    "iterations = 100\n",
    "print(\"x is {}\".format(x))\n"
   ]
  },
  {
   "cell_type": "code",
   "execution_count": 30,
   "metadata": {},
   "outputs": [
    {
     "name": "stdout",
     "output_type": "stream",
     "text": [
      "0.009868621826171875 s\n"
     ]
    }
   ],
   "source": [
    "som = train_som(x,y,input_len,5,learning_rate)"
   ]
  },
  {
   "cell_type": "code",
   "execution_count": 31,
   "metadata": {},
   "outputs": [
    {
     "data": {
      "image/png": "[encoded data removed]",
      "text/plain": [
       "<Figure size 720x720 with 2 Axes>"
      ]
     },
     "metadata": {
      "needs_background": "light"
     },
     "output_type": "display_data"
    }
   ],
   "source": [
    "plot_som(som)"
   ]
  },
  {
   "cell_type": "markdown",
   "metadata": {},
   "source": [
    "# Optimización bayesiana"
   ]
  },
  {
   "cell_type": "markdown",
   "metadata": {},
   "source": [
    "## optimizando el radio de la vecindad, sigma"
   ]
  },
  {
   "cell_type": "code",
   "execution_count": 33,
   "metadata": {},
   "outputs": [
    {
     "name": "stdout",
     "output_type": "stream",
     "text": [
      "100%|██████████| 200/200 [00:02<00:00, 81.51trial/s, best loss: 1111.1880881381476]\n",
      "2.459871768951416 s\n",
      "{'sig': 1.079388754501447}\n"
     ]
    }
   ],
   "source": [
    "start_time = time.time()\n",
    "\n",
    "best = fmin(\n",
    "    fn = lambda sig: MiniSom(x=x,\n",
    "                             y=y,\n",
    "                             input_len=input_len,\n",
    "                             sigma=sig,\n",
    "                             learning_rate=learning_rate).quantization_error(data),\n",
    "    space = hp.uniform(\"sig\", 0.001 , x/2.01),\n",
    "    algo = tpe.suggest,\n",
    "    max_evals = 200)\n",
    "\n",
    "elapsed_time = time.time() - start_time\n",
    "\n",
    "print(elapsed_time, \"s\")\n",
    "print(best)"
   ]
  },
  {
   "cell_type": "code",
   "execution_count": 34,
   "metadata": {},
   "outputs": [],
   "source": [
    "sigma = best['sig']"
   ]
  },
  {
   "cell_type": "code",
   "execution_count": 36,
   "metadata": {},
   "outputs": [
    {
     "name": "stdout",
     "output_type": "stream",
     "text": [
      "0.00988316535949707 s\n"
     ]
    }
   ],
   "source": [
    "som = train_som(x,y,input_len,sigma,learning_rate)"
   ]
  },
  {
   "cell_type": "code",
   "execution_count": 37,
   "metadata": {},
   "outputs": [
    {
     "data": {
      "image/png": "[encoded data removed]",
      "text/plain": [
       "<Figure size 720x720 with 2 Axes>"
      ]
     },
     "metadata": {
      "needs_background": "light"
     },
     "output_type": "display_data"
    }
   ],
   "source": [
    "plot_som(som)"
   ]
  },
  {
   "cell_type": "markdown",
   "metadata": {},
   "source": [
    "## optimizando la constante de aprendizaje"
   ]
  },
  {
   "cell_type": "code",
   "execution_count": 38,
   "metadata": {},
   "outputs": [],
   "source": [
    "from hyperopt import Trials, STATUS_OK"
   ]
  },
  {
   "cell_type": "code",
   "execution_count": 39,
   "metadata": {},
   "outputs": [],
   "source": [
    "space = {\n",
    "    'sig': hp.uniform('sig', 0.001, 5),\n",
    "    'learning_rate': hp.uniform('learning_rate', 0.001, 5)\n",
    "    \n",
    "}"
   ]
  },
  {
   "cell_type": "code",
   "execution_count": 40,
   "metadata": {},
   "outputs": [],
   "source": [
    "def som_fn(space):\n",
    "    sig = space['sig']\n",
    "    learning_rate = space['learning_rate']\n",
    "    val = MiniSom(x=x,\n",
    "                 y=y,\n",
    "                 input_len=input_len,\n",
    "                 sigma=sig,\n",
    "                 learning_rate=learning_rate).quantization_error(data)\n",
    "    print(val)\n",
    "    return {'loss': val, 'status':STATUS_OK} \n",
    "    "
   ]
  },
  {
   "cell_type": "code",
   "execution_count": 41,
   "metadata": {},
   "outputs": [
    {
     "name": "stdout",
     "output_type": "stream",
     "text": [
      "1111.2792149451539                                     \n",
      "1111.286480093788                                      \n",
      "1111.3178782096893                                                               \n",
      "1111.1981425108443                                                               \n",
      "1111.241485213862                                                                \n",
      "1111.267236988418                                                                \n",
      "1111.2670550619064                                                               \n",
      "1111.3388308914766                                                               \n",
      "1111.3355895833347                                                               \n",
      "1111.2202402951593                                                               \n",
      "1111.289887367824                                                                \n",
      "1111.2973177153704                                                                \n",
      "1111.2410011733452                                                                \n",
      "1111.24611599813                                                                  \n",
      "1111.347459456121                                                                 \n",
      "1111.3142786307328                                                                \n",
      "1111.2673177996026                                                                \n",
      "1111.251063013653                                                                 \n",
      "1111.2869084923964                                                                \n",
      "1111.2291165156455                                                                \n",
      "1111.2710955168086                                                                \n",
      "1111.259268536899                                                                 \n",
      "1111.3163735210148                                                                \n",
      "1111.2823439609206                                                                \n",
      "1111.315935096193                                                                 \n",
      "1111.3467023618591                                                                \n",
      "1111.282467943831                                                                 \n",
      "1111.3437065357052                                                                \n",
      "1111.2618461335446                                                                \n",
      "1111.342225432553                                                                 \n",
      "1111.299825068348                                                                 \n",
      "1111.227181833672                                                                 \n",
      "1111.3011468505567                                                                \n",
      "1111.2980575362292                                                                \n",
      "1111.286013772346                                                                 \n",
      "1111.3004467068552                                                                \n",
      "1111.2381191660597                                                                \n",
      "1111.2797935349217                                                                \n",
      "1111.3430410751268                                                                \n",
      "1111.3000688985778                                                                \n",
      "1111.3936798578604                                                                \n",
      "1111.331702129222                                                                 \n",
      "1111.329802561411                                                                 \n",
      "1111.306626999124                                                                 \n",
      "1111.3542349305128                                                                \n",
      "1111.3354046175114                                                                \n",
      "1111.2817324362684                                                                \n",
      "1111.3391378782494                                                                \n",
      "1111.2744444986986                                                                \n",
      "1111.3120587368312                                                                \n",
      "1111.3209499712787                                                                \n",
      "1111.332289671467                                                                 \n",
      "1111.2488377793404                                                                \n",
      "1111.2954373557798                                                                \n",
      "1111.3086697019212                                                                \n",
      "1111.3159218516676                                                                \n",
      "1111.2629623514974                                                                \n",
      "1111.2686996374969                                                                \n",
      "1111.3045120805834                                                                \n",
      "1111.2430510506615                                                                \n",
      "1111.2588887819359                                                                \n",
      "1111.2867553810595                                                                \n",
      "1111.3162423051444                                                                \n",
      "1111.3201373137622                                                                \n",
      "1111.3033072880894                                                                \n",
      "1111.3012327364231                                                                \n",
      "1111.2569049592616                                                                \n",
      "1111.325632312556                                                                 \n",
      "1111.3072770050694                                                                \n",
      "1111.3633776441325                                                                \n",
      "1111.2685438052272                                                                \n",
      "1111.3073183168744                                                                \n",
      "1111.2919928276838                                                                \n",
      "1111.3018984547796                                                                \n",
      "1111.2659454001507                                                                \n",
      "1111.2705441622309                                                                \n",
      "1111.254774644982                                                                 \n",
      "1111.3163673794506                                                                \n",
      "1111.3299090741614                                                                \n",
      "1111.3648500401541                                                                \n",
      "1111.2489017572245                                                                \n",
      "1111.3366064416716                                                                \n",
      "1111.2712760778122                                                                \n",
      "1111.3226098964851                                                                \n",
      "1111.2926523131912                                                                \n",
      "1111.299884437881                                                                 \n",
      "1111.301042621681                                                                 \n",
      "1111.3336962564117                                                                \n",
      "1111.3190591027173                                                                \n",
      "1111.23813542868                                                                  \n",
      "1111.198177070532                                                                 \n",
      "1111.2934912554394                                                                \n",
      "1111.3241848035573                                                                \n",
      "1111.2736657553787                                                                \n",
      "1111.264033607669                                                                 \n",
      "1111.1986325277242                                                                \n",
      "1111.2691594577475                                                                \n",
      "1111.3220483203443                                                                \n",
      "1111.2993107250827                                                                \n",
      "1111.3184453743954                                                                \n",
      "1111.3455531761178                                                                 \n",
      "1111.3062013346198                                                                 \n",
      "1111.2687066773478                                                                 \n",
      "1111.304868354235                                                                  \n",
      "1111.296516307595                                                                  \n",
      "1111.3015373378128                                                                 \n",
      "1111.3448245187117                                                                 \n",
      "1111.3489181472517                                                                 \n",
      "1111.2978154314312                                                                 \n",
      "1111.3429258003262                                                                 \n",
      "1111.3066143751416                                                                 \n",
      "1111.2553606945767                                                                 \n",
      "1111.311862049225                                                                  \n",
      "1111.3014970000454                                                                 \n",
      "1111.2770523424736                                                                 \n",
      "1111.2830887135756                                                                 \n",
      "1111.3382363561627                                                                 \n",
      "1111.2659597762454                                                                 \n",
      "1111.361226126384                                                                  \n",
      "1111.318368041461                                                                  \n",
      "1111.3274646202162                                                                 \n",
      "1111.2651778257714                                                                 \n",
      "1111.3229465753184                                                                 \n",
      "1111.2576795654072                                                                 \n",
      "1111.2989280173172                                                                 \n",
      "1111.314208474549                                                                  \n",
      "1111.2854022720364                                                                 \n",
      "1111.3162054741372                                                                 \n",
      "1111.2716589392312                                                                 \n",
      "1111.302205119328                                                                  \n",
      "1111.242224092453                                                                  \n",
      "1111.2753973322756                                                                 \n",
      "1111.2823412417592                                                                 \n",
      "1111.2907304435855                                                                 \n",
      "1111.2854418531417                                                                 \n",
      "1111.3115095043156                                                                 \n",
      "1111.3135067351368                                                                 \n",
      "1111.2334716500554                                                                 \n",
      "1111.304654716212                                                                  \n",
      "1111.2719081711693                                                                 \n",
      "1111.3042912061444                                                                 \n",
      "1111.2896799805324                                                                 \n",
      "1111.299999681009                                                                  \n",
      "1111.2724048124667                                                                 \n",
      "1111.248373320316                                                                  \n",
      "1111.3053185519539                                                                 \n",
      "1111.2734332855557                                                                 \n",
      "1111.3422122214415                                                                 \n",
      "1111.297356296474                                                                  \n",
      "1111.242863625579                                                                  \n",
      "1111.3266739227686                                                                 \n",
      "1111.3113768184096                                                                 \n",
      "1111.3235090441194                                                                 \n",
      "1111.2705511009026                                                                 \n",
      "1111.27782378344                                                                   \n",
      "1111.2797333515105                                                                 \n",
      "1111.3238901324094                                                                 \n",
      "1111.3300977384054                                                                 \n",
      "1111.2651351755471                                                                 \n",
      "1111.295211073239                                                                  \n",
      "1111.2698704086772                                                                 \n",
      "1111.2975813832927                                                                 \n",
      "1111.2322606846142                                                                 \n",
      "1111.2982578889405                                                                 \n",
      "1111.2487951526819                                                                 \n",
      "1111.2994380422954                                                                 \n",
      "1111.2437340725653                                                                 \n",
      "1111.28069213956                                                                   \n",
      "1111.3207636189686                                                                 \n",
      "1111.3298753319584                                                                 \n",
      "1111.2513558426292                                                                 \n",
      "1111.27481028915                                                                   \n",
      "1111.2986552043271                                                                 \n",
      "1111.3010417799023                                                                 \n",
      "1111.2658064547331                                                                 \n",
      "1111.3294157428982                                                                 \n",
      "1111.2473738253527                                                                 \n",
      "1111.3061196520753                                                                 \n",
      "1111.3383592298935                                                                 \n",
      "1111.2969180264934                                                                 \n",
      "1111.2477949600932                                                                 \n",
      "1111.3190604315935                                                                 \n",
      "1111.2276953245594                                                                 \n",
      "1111.2304825378244                                                                 \n",
      "1111.285322704532                                                                  \n",
      "1111.3063116452188                                                                 \n",
      "1111.290187691272                                                                  \n",
      "1111.2666183858835                                                                 \n",
      "1111.2997309445968                                                                 \n",
      "1111.3123827901618                                                                 \n",
      "1111.265133047588                                                                  \n",
      "1111.3190803525752                                                                 \n",
      "1111.2666425411803                                                                 \n",
      "1111.328470808681                                                                  \n",
      "1111.2944643184442                                                                 \n",
      "1111.279372296139                                                                  \n",
      "1111.27501523776                                                                   \n",
      "1111.3389890795777                                                                 \n",
      "1111.330993400203                                                                  \n",
      "1111.1924210215668                                                                 \n",
      "100%|██████████| 200/200 [00:06<00:00, 30.01trial/s, best loss: 1111.1924210215668]\n",
      "6.672462463378906 s\n",
      "best:{'learning_rate': 0.9757192385609669, 'sig': 4.1454258047871875}\n"
     ]
    }
   ],
   "source": [
    "start_time = time.time()\n",
    "\n",
    "trials = Trials()\n",
    "\n",
    "best = fmin(\n",
    "    fn = som_fn,\n",
    "    space = space,\n",
    "    algo = tpe.suggest,\n",
    "    max_evals = 200,\n",
    "    trials = trials)\n",
    "\n",
    "elapsed_time = time.time() - start_time\n",
    "\n",
    "print(elapsed_time, \"s\")\n",
    "print('best:{}'.format(best))"
   ]
  },
  {
   "cell_type": "code",
   "execution_count": 42,
   "metadata": {},
   "outputs": [
    {
     "name": "stdout",
     "output_type": "stream",
     "text": [
      "0 {'state': 2, 'tid': 0, 'spec': None, 'result': {'loss': 1111.2792149451539, 'status': 'ok'}, 'misc': {'tid': 0, 'cmd': ('domain_attachment', 'FMinIter_Domain'), 'workdir': None, 'idxs': {'learning_rate': [0], 'sig': [0]}, 'vals': {'learning_rate': [2.421277695549428], 'sig': [1.7786718452015364]}}, 'exp_key': None, 'owner': None, 'version': 0, 'book_time': datetime.datetime(2020, 6, 25, 4, 45, 22, 372000), 'refresh_time': datetime.datetime(2020, 6, 25, 4, 45, 22, 389000)}\n",
      "1 {'state': 2, 'tid': 1, 'spec': None, 'result': {'loss': 1111.286480093788, 'status': 'ok'}, 'misc': {'tid': 1, 'cmd': ('domain_attachment', 'FMinIter_Domain'), 'workdir': None, 'idxs': {'learning_rate': [1], 'sig': [1]}, 'vals': {'learning_rate': [3.844369395167663], 'sig': [1.5741489998743887]}}, 'exp_key': None, 'owner': None, 'version': 0, 'book_time': datetime.datetime(2020, 6, 25, 4, 45, 22, 394000), 'refresh_time': datetime.datetime(2020, 6, 25, 4, 45, 22, 415000)}\n"
     ]
    }
   ],
   "source": [
    "for i, trial in enumerate(trials.trials[:2]):\n",
    "    print(i,trial)"
   ]
  },
  {
   "cell_type": "code",
   "execution_count": 43,
   "metadata": {},
   "outputs": [],
   "source": [
    "sigma = best['sig']\n",
    "learning_rate=best['learning_rate']"
   ]
  },
  {
   "cell_type": "code",
   "execution_count": 44,
   "metadata": {},
   "outputs": [
    {
     "name": "stdout",
     "output_type": "stream",
     "text": [
      "0.019826412200927734 s\n"
     ]
    }
   ],
   "source": [
    "som = train_som(x,y,input_len,sigma,learning_rate)"
   ]
  },
  {
   "cell_type": "code",
   "execution_count": 45,
   "metadata": {},
   "outputs": [
    {
     "data": {
      "image/png": "[encoded data removed]",
      "text/plain": [
       "<Figure size 720x720 with 2 Axes>"
      ]
     },
     "metadata": {
      "needs_background": "light"
     },
     "output_type": "display_data"
    }
   ],
   "source": [
    "plot_som(som)"
   ]
  },
  {
   "cell_type": "markdown",
   "metadata": {},
   "source": [
    "# Esto es para una nueva sección"
   ]
  },
  {
   "cell_type": "code",
   "execution_count": null,
   "metadata": {},
   "outputs": [],
   "source": [
    "import csv\n",
    "import json\n",
    "import sys\n",
    "#import pandas as pd\n",
    "from business import intel\n",
    "csv.field_size_limit(sys.maxsize)\n",
    "request_data_json = []\n",
    "with open ('score_requests_15062020.csv', newline='') as csvfile:\n",
    "    cursor = csv.DictReader(csvfile)\n",
    "    for row in cursor:\n",
    "        try:\n",
    "            request_data_json.append(json.loads(row['request_data']))\n",
    "        except e:\n",
    "            print(e)\n",
    "            \n",
    "xx, yy, zz = intel.get_dataframes_from_all_json(request_data_json)\n",
    "# COnvertir estos DataFrames en CSV o Exportarlos a algo util :D\n",
    "print(xx.shape)\n",
    "print(yy.shape)\n",
    "print(zz.shape)"
   ]
  },
  {
   "cell_type": "code",
   "execution_count": null,
   "metadata": {},
   "outputs": [],
   "source": [
    "pca = PCA(.5,random_state=2020)\n",
    "#scaler = StandardScaler()\n",
    "#scaler.fit(df[X_cuentas])\n",
    "x_scal = StandardScaler().fit_transform(df[X_cuentas].values)\n",
    "pca.fit_transform(x_scal)"
   ]
  },
  {
   "cell_type": "code",
   "execution_count": null,
   "metadata": {},
   "outputs": [],
   "source": [
    "print(pca.explained_variance_ratio_)"
   ]
  },
  {
   "cell_type": "code",
   "execution_count": null,
   "metadata": {},
   "outputs": [],
   "source": [
    "pca = PCA(.5,random_state=2020)\n",
    "#scaler = StandardScaler()\n",
    "#scaler.fit(df[X_cuentas])\n",
    "x_scal_r = StandardScaler().fit_transform(df[X_respons].values)\n",
    "pca.fit_transform(x_scal_r)"
   ]
  }
 ],
 "metadata": {
  "kernelspec": {
   "display_name": "Python 3",
   "language": "python",
   "name": "python3"
  },
  "language_info": {
   "codemirror_mode": {
    "name": "ipython",
    "version": 3
   },
   "file_extension": ".py",
   "mimetype": "text/x-python",
   "name": "python",
   "nbconvert_exporter": "python",
   "pygments_lexer": "ipython3",
   "version": "3.6.10"
  }
 },
 "nbformat": 4,
 "nbformat_minor": 4
}
